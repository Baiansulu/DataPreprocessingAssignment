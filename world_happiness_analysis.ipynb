{
 "cells": [
  {
   "cell_type": "code",
   "execution_count": null,
   "id": "7140ef51",
   "metadata": {},
   "outputs": [],
   "source": [
    "# Import libraries\n",
    "import pandas as pd\n",
    "import numpy as np\n",
    "import matplotlib.pyplot as plt\n",
    "import seaborn as sns\n",
    "from sklearn.preprocessing import MinMaxScaler\n",
    "from sklearn.model_selection import train_test_split\n",
    "from sklearn.linear_model import LinearRegression\n",
    "from sklearn.metrics import mean_squared_error, r2_score\n",
    "from sklearn.cluster import KMeans"
   ]
  },
  {
   "cell_type": "code",
   "execution_count": null,
   "id": "9abfa604",
   "metadata": {},
   "outputs": [],
   "source": [
    "# Load and combine all yearly datasets\n",
    "years = ['2020', '2021', '2022', '2023', '2024']\n",
    "dfs = []\n",
    "for year in years:\n",
    "    df = pd.read_csv(f\"{year}.csv\")\n",
    "    df.columns = df.columns.str.strip().str.replace('\\t', '', regex=True)\n",
    "    df[\"Year\"] = int(year)\n",
    "    dfs.append(df)\n",
    "df = pd.concat(dfs, ignore_index=True)"
   ]
  },
  {
   "cell_type": "code",
   "execution_count": null,
   "id": "a1e002d8",
   "metadata": {},
   "outputs": [],
   "source": [
    "# Step 1: Data Cleaning\n",
    "df.drop_duplicates(inplace=True)\n",
    "df.dropna(inplace=True)"
   ]
  },
  {
   "cell_type": "code",
   "execution_count": null,
   "id": "f33963a1",
   "metadata": {},
   "outputs": [],
   "source": [
    "# Step 2: Data Integration - already done above"
   ]
  },
  {
   "cell_type": "code",
   "execution_count": null,
   "id": "d34bbaae",
   "metadata": {},
   "outputs": [],
   "source": [
    "# Step 3: Data Reduction\n",
    "df = df[[\n",
    "    'Country name', 'Year', 'Happiness score',\n",
    "    'Economy (GDP per Capita)', 'Social support',\n",
    "    'Healthy life expectancy', 'Freedom to make life choices',\n",
    "    'Generosity', 'Perceptions of corruption'\n",
    "]]"
   ]
  },
  {
   "cell_type": "code",
   "execution_count": null,
   "id": "8dee358e",
   "metadata": {},
   "outputs": [],
   "source": [
    "# Step 4: Data Transformation - Normalize numeric features\n",
    "features = [\n",
    "    'Economy (GDP per Capita)', 'Social support', 'Healthy life expectancy',\n",
    "    'Freedom to make life choices', 'Generosity', 'Perceptions of corruption'\n",
    "]"
   ]
  },
  {
   "cell_type": "code",
   "execution_count": null,
   "id": "b69e37e0",
   "metadata": {},
   "outputs": [],
   "source": [
    "scaler = MinMaxScaler()\n",
    "df[features] = scaler.fit_transform(df[features])"
   ]
  },
  {
   "cell_type": "code",
   "execution_count": null,
   "id": "f46d8c13",
   "metadata": {},
   "outputs": [],
   "source": [
    "# Step 5: Data Discretization - Convert Happiness Score to categories\n",
    "df['Happiness Level'] = pd.cut(df['Happiness score'],\n",
    "                               bins=[0, 4.5, 6.5, 10],\n",
    "                               labels=['Low', 'Medium', 'High'])"
   ]
  },
  {
   "cell_type": "code",
   "execution_count": null,
   "id": "7da20e4d",
   "metadata": {},
   "outputs": [],
   "source": [
    "# Bonus: Model to predict Happiness Score\n",
    "X = df[features]\n",
    "y = df['Happiness score']\n",
    "X_train, X_test, y_train, y_test = train_test_split(X, y, test_size=0.2, random_state=42)\n",
    "model = LinearRegression()\n",
    "model.fit(X_train, y_train)\n",
    "y_pred = model.predict(X_test)"
   ]
  },
  {
   "cell_type": "code",
   "execution_count": null,
   "id": "ee30b08e",
   "metadata": {},
   "outputs": [],
   "source": [
    "print(\"R2 Score:\", r2_score(y_test, y_pred))\n",
    "print(\"MSE:\", mean_squared_error(y_test, y_pred))"
   ]
  },
  {
   "cell_type": "code",
   "execution_count": null,
   "id": "c7584a96",
   "metadata": {},
   "outputs": [],
   "source": [
    "# Visualization\n",
    "plt.figure(figsize=(10, 6))\n",
    "sns.histplot(df['Happiness score'], bins=20, kde=True)\n",
    "plt.title(\"Happiness Score Distribution (2020–2024)\")\n",
    "plt.xlabel(\"Happiness Score\")\n",
    "plt.ylabel(\"Frequency\")\n",
    "plt.tight_layout()\n",
    "plt.savefig(\"happiness_histogram.png\")\n",
    "plt.show()"
   ]
  },
  {
   "cell_type": "code",
   "execution_count": null,
   "id": "clustering",
   "metadata": {},
   "outputs": [],
   "source": [
    "# K-Means Clustering\n",
    "X_cluster = df[features]\n",
    "kmeans = KMeans(n_clusters=3, random_state=42)\n",
    "df['Cluster'] = kmeans.fit_predict(X_cluster)\n",
    "\n",
    "# Visualize the clusters (GDP vs Happiness Score)\n",
    "plt.figure(figsize=(10, 6))\n",
    "plt.scatter(df['Economy (GDP per Capita)'], df['Happiness score'], c=df['Cluster'])\n",
    "plt.xlabel('GDP per Capita')\n",
    "plt.ylabel('Happiness Score')\n",
    "plt.title('Clusters of Countries')\n",
    "plt.colorbar(label='Cluster')\n",
    "plt.tight_layout()\n",
    "plt.savefig(\"happiness_clusters.png\")\n",
    "plt.show()"
   ]
  }
 ],
 "metadata": {},
 "nbformat": 4,
 "nbformat_minor": 5
}
